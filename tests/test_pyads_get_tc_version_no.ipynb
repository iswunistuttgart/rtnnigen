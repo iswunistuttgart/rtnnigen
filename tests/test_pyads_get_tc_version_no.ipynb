{
 "cells": [
  {
   "cell_type": "code",
   "execution_count": 1,
   "metadata": {},
   "outputs": [
    {
     "name": "stdout",
     "output_type": "stream",
     "text": [
      "Requirement already satisfied: pyads in c:\\users\\administrator\\appdata\\local\\programs\\python\\python312\\lib\\site-packages (3.3.9)\n"
     ]
    },
    {
     "name": "stderr",
     "output_type": "stream",
     "text": [
      "\n",
      "[notice] A new release of pip is available: 23.3.2 -> 24.0\n",
      "[notice] To update, run: python.exe -m pip install --upgrade pip\n"
     ]
    }
   ],
   "source": [
    "!pip install pyads\n",
    "import pyads"
   ]
  },
  {
   "cell_type": "code",
   "execution_count": 10,
   "metadata": {},
   "outputs": [
    {
     "name": "stdout",
     "output_type": "stream",
     "text": [
      "3.1.0.0\n"
     ]
    }
   ],
   "source": [
    "def get_twincat_version_via_ads(ams_net_id : str = \"127.0.0.1.1.1\") -> str:\n",
    "    plc = pyads.Connection(ams_net_id=ams_net_id , ams_net_port=pyads.PORT_TC3PLC1)\n",
    "    with plc:\n",
    "        device_info = plc.read_device_info()\n",
    "\n",
    "    ads_version_info = device_info[1]\n",
    "    version_str = f\"{ads_version_info.version}.{ads_version_info.revision}.0.0\" # last two versions seem irrelevant for importing in TwinCat.\n",
    "    return version_str\n",
    "\n",
    "print(get_twincat_version_via_ads())\n"
   ]
  }
 ],
 "metadata": {
  "kernelspec": {
   "display_name": "Python 3",
   "language": "python",
   "name": "python3"
  },
  "language_info": {
   "codemirror_mode": {
    "name": "ipython",
    "version": 3
   },
   "file_extension": ".py",
   "mimetype": "text/x-python",
   "name": "python",
   "nbconvert_exporter": "python",
   "pygments_lexer": "ipython3",
   "version": "3.12.1"
  }
 },
 "nbformat": 4,
 "nbformat_minor": 2
}
