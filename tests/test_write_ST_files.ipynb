{
 "cells": [
  {
   "cell_type": "code",
   "execution_count": 1,
   "metadata": {},
   "outputs": [
    {
     "name": "stderr",
     "output_type": "stream",
     "text": [
      "2024-05-14 09:27:39.466855: I external/local_tsl/tsl/cuda/cudart_stub.cc:32] Could not find cuda drivers on your machine, GPU will not be used.\n",
      "2024-05-14 09:27:39.471028: I external/local_tsl/tsl/cuda/cudart_stub.cc:32] Could not find cuda drivers on your machine, GPU will not be used.\n",
      "2024-05-14 09:27:39.526287: I tensorflow/core/platform/cpu_feature_guard.cc:210] This TensorFlow binary is optimized to use available CPU instructions in performance-critical operations.\n",
      "To enable the following instructions: AVX2 FMA, in other operations, rebuild TensorFlow with the appropriate compiler flags.\n",
      "2024-05-14 09:27:40.668270: W tensorflow/compiler/tf2tensorrt/utils/py_utils.cc:38] TF-TRT Warning: Could not find TensorRT\n"
     ]
    },
    {
     "name": "stdout",
     "output_type": "stream",
     "text": [
      "\n",
      "\n",
      "\n",
      "The following code can be used to call the generated model:\n",
      "        Assuming declared input/output for model:\n",
      "        \n",
      "            input : ARRAY[0..4] OF LREAL;\n",
      "            result : ARRAY[0..0] OF LREAL;\n",
      "\n",
      "        Then call as:\n",
      "\n",
      "            FB_Dense_v1(pointer_input:=ADR(input), pointer_output:=ADR(result));      \n",
      "        \n",
      "        \n"
     ]
    }
   ],
   "source": [
    "# minimal example\n",
    "\n",
    "from nnigen import nnigen, get_example_usage, overwrite_weights_file\n",
    "import keras \n",
    "\n",
    "folder = \"test_ST_files/\"\n",
    "model_name = \"Dense_v1\"\n",
    "model_file = \"test_model.keras\"\n",
    "\n",
    "model = keras.saving.load_model(model_file)\n",
    "\n",
    "# writes TwinCAT XML files directly\n",
    "nnigen(model, model_name, folder, overwrite_if_model_exists=True)\n",
    "\n",
    "# writes ST files (without TwinCAT XML structure):\n",
    "#nnigen(model, model_name, folder, overwrite_if_model_exists=True,write_plain_st=True)\n",
    "\n",
    "print(\"\\n\\n\")\n",
    "print(get_example_usage(model, model_name))"
   ]
  },
  {
   "cell_type": "code",
   "execution_count": 3,
   "metadata": {},
   "outputs": [],
   "source": [
    "\n",
    "from nnigen import generate_weights_file\n",
    "\n",
    "generate_weights_file(model, model_name, folder)"
   ]
  }
 ],
 "metadata": {
  "kernelspec": {
   "display_name": ".venv",
   "language": "python",
   "name": "python3"
  },
  "language_info": {
   "codemirror_mode": {
    "name": "ipython",
    "version": 3
   },
   "file_extension": ".py",
   "mimetype": "text/x-python",
   "name": "python",
   "nbconvert_exporter": "python",
   "pygments_lexer": "ipython3",
   "version": "3.11.6"
  }
 },
 "nbformat": 4,
 "nbformat_minor": 2
}
