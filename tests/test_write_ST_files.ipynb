{
 "cells": [
  {
   "cell_type": "code",
   "execution_count": 1,
   "metadata": {},
   "outputs": [
    {
     "name": "stderr",
     "output_type": "stream",
     "text": [
      "2024-04-19 17:41:31.306875: I external/local_tsl/tsl/cuda/cudart_stub.cc:32] Could not find cuda drivers on your machine, GPU will not be used.\n",
      "2024-04-19 17:41:31.310564: I external/local_tsl/tsl/cuda/cudart_stub.cc:32] Could not find cuda drivers on your machine, GPU will not be used.\n",
      "2024-04-19 17:41:31.370883: I tensorflow/core/platform/cpu_feature_guard.cc:210] This TensorFlow binary is optimized to use available CPU instructions in performance-critical operations.\n",
      "To enable the following instructions: AVX2 FMA, in other operations, rebuild TensorFlow with the appropriate compiler flags.\n",
      "2024-04-19 17:41:32.426114: W tensorflow/compiler/tf2tensorrt/utils/py_utils.cc:38] TF-TRT Warning: Could not find TensorRT\n",
      "WARNING:root:File 'test_ST_files/AllWeights_Dense_v1.txt' exists and `generate_weights_file` was not set to overwrite the old contents.The existing model was not overwritten. Either rename the model of allow overwriting.\n"
     ]
    }
   ],
   "source": [
    "from keras2plc import ST_writer\n",
    "from keras2plc import keras_to_st_parser\n",
    "from keras2plc.keras2plc import _get_io_dimensions\n",
    "from keras2plc import keras2plc\n",
    "import keras\n",
    "\n",
    "folder = \"test_ST_files/\"\n",
    "model_name = \"Dense_v1\"\n",
    "model_file = \"test_model.keras\"\n",
    "\n",
    "\n",
    "model = keras.saving.load_model(model_file)\n",
    "i_,o_ = _get_io_dimensions(model)\n",
    "\n",
    "reader = keras_to_st_parser(model,model_name, input_dim=i_, output_dim=o_)\n",
    "layers_contents = reader.generate_struct_layers()\n",
    "layersWeights_contents = reader.generate_struct_layer_weights()\n",
    "bin_weights = reader.pack_weights_binary()\n",
    "\n",
    "\n",
    "writer = ST_writer(model_name, layers_contents,layersWeights_contents)\n",
    "writer.write_ST_files_to(folder, overwrite_if_exists=True)\n",
    "writer.write_weights_file(bin_weights=bin_weights)"
   ]
  },
  {
   "cell_type": "code",
   "execution_count": 6,
   "metadata": {},
   "outputs": [
    {
     "name": "stdout",
     "output_type": "stream",
     "text": [
      "The following code can be used to call the generated model:\n",
      "        Assuming declared input/output for model:\n",
      "        \n",
      "            input : ARRAY[0..0] OF LREAL;\n",
      "            result : ARRAY[0..0] OF LREAL;\n",
      "\n",
      "        Then call as:\n",
      "\n",
      "            FB_Dense_v1(pointer_input:=ADR(input), pointer_output:=ADS(result));      \n",
      "        \n",
      "        \n"
     ]
    }
   ],
   "source": [
    "# minimal example\n",
    "\n",
    "from keras2plc import keras2plc, get_example_usage\n",
    "import keras \n",
    "\n",
    "folder = \"test_ST_files/\"\n",
    "model_name = \"Dense_v1\"\n",
    "model_file = \"test_model.keras\"\n",
    "\n",
    "model = keras.saving.load_model(model_file)\n",
    "\n",
    "keras2plc(model, model_name, folder, overwrite_if_model_exists=True)\n",
    "\n",
    "print(get_example_usage(model, model_name))"
   ]
  },
  {
   "cell_type": "code",
   "execution_count": 2,
   "metadata": {},
   "outputs": [
    {
     "name": "stdout",
     "output_type": "stream",
     "text": [
      "\n",
      "num_layers : UINT := 4;\n",
      "weights : Dense_v1_LayerWeights;\n",
      "input : Layer := (num_neurons := 3,normalization := act_type.normalization);\n",
      "layer_1 : Layer := (num_neurons := 31, activation := act_type.relu, pointer_weight:= ADR(weights.HiddenLayers1_weight),pointer_bias:= ADR(weights.HiddenLayers1_bias) );\n",
      "layer_2 : Layer := (num_neurons := 24, activation := act_type.relu, pointer_weight:= ADR(weights.HiddenLayers2_weight),pointer_bias:= ADR(weights.HiddenLayers2_bias) );\n",
      "output : Layer := (num_neurons := 1, activation := act_type.relu ,normalization := act_type.denormalization , pointer_weight:= ADR(weights.OutputLayer_weight),pointer_bias:= ADR(weights.OutputLayer_bias) );\n",
      "layers : ARRAY[0..3] OF Layer :=[input, layer_1, layer_2, output];\n",
      "layer_output : ARRAY[0..30] OF LREAL;\n",
      "layer_input : ARRAY[0..30] OF LREAL;\n"
     ]
    }
   ],
   "source": [
    "print(layers_contents)\n",
    "# print(layersWeights_contents)"
   ]
  },
  {
   "cell_type": "code",
   "execution_count": 3,
   "metadata": {},
   "outputs": [
    {
     "name": "stdout",
     "output_type": "stream",
     "text": [
      "The following code can be used to call the generated model:\n",
      "        Assuming declared input/output for model:\n",
      "        \n",
      "            input : ARRAY[0..1] OF LREAL;\n",
      "            result : ARRAY[0..0] OF LREAL;\n",
      "\n",
      "        Then call as:\n",
      "\n",
      "            FB_Dense_v1(pointer_input:=ADR(input), pointer_output:=ADS(result), nn:=GVL_Dense_v1.nn);      \n",
      "        \n",
      "        \n"
     ]
    }
   ],
   "source": [
    "writer.write_ST_files_to(folder, overwrite_if_exists=True)\n",
    "reader.generate_weights_file(folder,True)\n",
    "print(writer.create_example_usage(dims_input=2, dims_output=1))"
   ]
  },
  {
   "cell_type": "code",
   "execution_count": 5,
   "metadata": {},
   "outputs": [
    {
     "name": "stdout",
     "output_type": "stream",
     "text": [
      "\u001b[1m1/1\u001b[0m \u001b[32m━━━━━━━━━━━━━━━━━━━━\u001b[0m\u001b[37m\u001b[0m \u001b[1m0s\u001b[0m 21ms/step\n",
      "[[0.50318885]]\n"
     ]
    }
   ],
   "source": [
    "import numpy as np\n",
    "input = np.array([1,1,1]).reshape(1,3)\n",
    "out = reader.model.predict(input)\n",
    "print(out)"
   ]
  }
 ],
 "metadata": {
  "kernelspec": {
   "display_name": ".venv",
   "language": "python",
   "name": "python3"
  },
  "language_info": {
   "codemirror_mode": {
    "name": "ipython",
    "version": 3
   },
   "file_extension": ".py",
   "mimetype": "text/x-python",
   "name": "python",
   "nbconvert_exporter": "python",
   "pygments_lexer": "ipython3",
   "version": "3.11.6"
  }
 },
 "nbformat": 4,
 "nbformat_minor": 2
}
