{
 "cells": [
  {
   "cell_type": "code",
   "execution_count": 1,
   "metadata": {},
   "outputs": [
    {
     "name": "stderr",
     "output_type": "stream",
     "text": [
      "c:\\Users\\MMS\\AppData\\Local\\Programs\\Python\\Python312\\Lib\\site-packages\\keras\\src\\saving\\saving_lib.py:396: UserWarning: Skipping variable loading for optimizer 'adam', because it has 22 variables whereas the saved optimizer has 2 variables. \n",
      "  trackable.load_own_variables(weights_store.get(inner_path))\n"
     ]
    }
   ],
   "source": [
    "from keras2plc import ST_writer\n",
    "from keras2plc import nn_reader\n",
    "\n",
    "folder = \"test_ST_files/\"\n",
    "model_name = \"Dense_v1\"\n",
    "model_file = \"test_model.keras\"\n",
    "\n",
    "reader = nn_reader(model_file,model_name,3,1)\n",
    "layers_contents = reader.generate_struct_layers()\n",
    "layersWeights_contents = reader.generate_struct_layersweights()\n",
    "writer = ST_writer(model_name, layers_contents,layersWeights_contents)\n"
   ]
  },
  {
   "cell_type": "code",
   "execution_count": 2,
   "metadata": {},
   "outputs": [
    {
     "name": "stdout",
     "output_type": "stream",
     "text": [
      "The following code can be used to call the generated model:\n",
      "        Assuming declared input/output for model:\n",
      "        \n",
      "            input : ARRAY[0..1] OF LREAL;\n",
      "            result : ARRAY[0..0] OF LREAL;\n",
      "\n",
      "        Then call as:\n",
      "\n",
      "            FB_Dense_v1(pointer_input:=ADR(input), pointer_output:=ADS(result), nn:=GVL_Dense_v1.nn);      \n",
      "        \n",
      "        \n"
     ]
    }
   ],
   "source": [
    "writer.write_ST_files_to(folder, overwrite_if_exists=True)\n",
    "reader.generate_weights_file(folder,True)\n",
    "print(writer.create_example_usage(dims_input=2, dims_output=1))"
   ]
  },
  {
   "cell_type": "code",
   "execution_count": 3,
   "metadata": {},
   "outputs": [
    {
     "name": "stdout",
     "output_type": "stream",
     "text": [
      "\u001b[1m1/1\u001b[0m \u001b[32m━━━━━━━━━━━━━━━━━━━━\u001b[0m\u001b[37m\u001b[0m \u001b[1m0s\u001b[0m 116ms/step\n",
      "[[0.11770926]]\n"
     ]
    }
   ],
   "source": [
    "import numpy as np\n",
    "input = np.array([-5,12,4]).reshape(1,3)\n",
    "out = reader.model.predict(input)\n",
    "print(out)"
   ]
  }
 ],
 "metadata": {
  "kernelspec": {
   "display_name": ".venv",
   "language": "python",
   "name": "python3"
  },
  "language_info": {
   "codemirror_mode": {
    "name": "ipython",
    "version": 3
   },
   "file_extension": ".py",
   "mimetype": "text/x-python",
   "name": "python",
   "nbconvert_exporter": "python",
   "pygments_lexer": "ipython3",
   "version": "3.12.1"
  }
 },
 "nbformat": 4,
 "nbformat_minor": 2
}
