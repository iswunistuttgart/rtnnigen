{
 "cells": [
  {
   "cell_type": "code",
   "execution_count": 1,
   "metadata": {},
   "outputs": [],
   "source": [
    "from keras2plc import ST_writer\n",
    "from keras2plc import nn_reader\n",
    "\n",
    "folder = \"test_ST_files/\"\n",
    "model_name = \"Dense_v1\"\n",
    "model_file = \"test_model.keras\"\n",
    "\n",
    "reader = nn_reader(model_file,model_name)\n",
    "layers_contents = reader.generate_struct_layers()\n",
    "layersWeights_contents = reader.generate_struct_layersweights()\n",
    "writer = ST_writer(model_name, layers_contents,layersWeights_contents)\n"
   ]
  },
  {
   "cell_type": "code",
   "execution_count": 2,
   "metadata": {},
   "outputs": [
    {
     "name": "stdout",
     "output_type": "stream",
     "text": [
      "\n",
      "num_layers : UINT := 4;\n",
      "weights : Dense_v1_LayerWeights;\n",
      "input : Layer := (num_neurons := 3,normalization := act_type.normalization);\n",
      "layer_1 : Layer := (num_neurons := 31, activation := act_type.relu, pointer_weight:= ADR(weights.HiddenLayers1_weight),pointer_bias:= ADR(weights.HiddenLayers1_bias) );\n",
      "layer_2 : Layer := (num_neurons := 24, activation := act_type.relu, pointer_weight:= ADR(weights.HiddenLayers2_weight),pointer_bias:= ADR(weights.HiddenLayers2_bias) );\n",
      "output : Layer := (num_neurons := 1, activation := act_type.relu ,normalization := act_type.denormalization , pointer_weight:= ADR(weights.OutputLayer_weight),pointer_bias:= ADR(weights.OutputLayer_bias) );\n",
      "layers : ARRAY[0..3] OF Layer :=[input, layer_1, layer_2, output];\n",
      "layer_output : ARRAY[0..30] OF LREAL;\n",
      "layer_input : ARRAY[0..30] OF LREAL;\n"
     ]
    }
   ],
   "source": [
    "print(layers_contents)\n",
    "# print(layersWeights_contents)"
   ]
  },
  {
   "cell_type": "code",
   "execution_count": 3,
   "metadata": {},
   "outputs": [
    {
     "name": "stdout",
     "output_type": "stream",
     "text": [
      "The following code can be used to call the generated model:\n",
      "        Assuming declared input/output for model:\n",
      "        \n",
      "            input : ARRAY[0..1] OF LREAL;\n",
      "            result : ARRAY[0..0] OF LREAL;\n",
      "\n",
      "        Then call as:\n",
      "\n",
      "            FB_Dense_v1(pointer_input:=ADR(input), pointer_output:=ADS(result), nn:=GVL_Dense_v1.nn);      \n",
      "        \n",
      "        \n"
     ]
    }
   ],
   "source": [
    "writer.write_ST_files_to(folder, overwrite_if_exists=True)\n",
    "reader.generate_weights_file(folder,True)\n",
    "print(writer.create_example_usage(dims_input=2, dims_output=1))"
   ]
  },
  {
   "cell_type": "code",
   "execution_count": 5,
   "metadata": {},
   "outputs": [
    {
     "name": "stdout",
     "output_type": "stream",
     "text": [
      "\u001b[1m1/1\u001b[0m \u001b[32m━━━━━━━━━━━━━━━━━━━━\u001b[0m\u001b[37m\u001b[0m \u001b[1m0s\u001b[0m 21ms/step\n",
      "[[0.50318885]]\n"
     ]
    }
   ],
   "source": [
    "import numpy as np\n",
    "input = np.array([1,1,1]).reshape(1,3)\n",
    "out = reader.model.predict(input)\n",
    "print(out)"
   ]
  }
 ],
 "metadata": {
  "kernelspec": {
   "display_name": ".venv",
   "language": "python",
   "name": "python3"
  },
  "language_info": {
   "codemirror_mode": {
    "name": "ipython",
    "version": 3
   },
   "file_extension": ".py",
   "mimetype": "text/x-python",
   "name": "python",
   "nbconvert_exporter": "python",
   "pygments_lexer": "ipython3",
   "version": "3.12.1"
  }
 },
 "nbformat": 4,
 "nbformat_minor": 2
}
