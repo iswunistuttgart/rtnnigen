{
 "cells": [
  {
   "cell_type": "code",
   "execution_count": 1,
   "metadata": {},
   "outputs": [],
   "source": [
    "import crc"
   ]
  },
  {
   "cell_type": "code",
   "execution_count": 12,
   "metadata": {},
   "outputs": [
    {
     "name": "stdout",
     "output_type": "stream",
     "text": [
      "51508\n"
     ]
    }
   ],
   "source": [
    "with open(\"test_ST_files/AllWeights_Dense_v1.txt\",\"rb\") as f:\n",
    "    data = f.read()\n",
    "    calculator = crc.Calculator(crc.Crc16.CCITT)\n",
    "    checksum = calculator.checksum(data)\n",
    "    print(checksum)"
   ]
  },
  {
   "cell_type": "code",
   "execution_count": 11,
   "metadata": {},
   "outputs": [
    {
     "name": "stdout",
     "output_type": "stream",
     "text": [
      "10312\n"
     ]
    }
   ],
   "source": [
    "with open(\"test_ST_files/AllWeights_Dense_v1.txt\",\"rb\") as f:\n",
    "    data = f.read()\n",
    "    print(len(data))"
   ]
  }
 ],
 "metadata": {
  "kernelspec": {
   "display_name": "Python 3",
   "language": "python",
   "name": "python3"
  },
  "language_info": {
   "codemirror_mode": {
    "name": "ipython",
    "version": 3
   },
   "file_extension": ".py",
   "mimetype": "text/x-python",
   "name": "python",
   "nbconvert_exporter": "python",
   "pygments_lexer": "ipython3",
   "version": "3.12.1"
  }
 },
 "nbformat": 4,
 "nbformat_minor": 2
}
