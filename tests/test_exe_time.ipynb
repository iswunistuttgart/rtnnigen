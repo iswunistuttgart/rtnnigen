{
 "cells": [
  {
   "cell_type": "code",
   "execution_count": 3,
   "metadata": {},
   "outputs": [],
   "source": [
    "import pyads"
   ]
  },
  {
   "cell_type": "code",
   "execution_count": 5,
   "metadata": {},
   "outputs": [
    {
     "name": "stdout",
     "output_type": "stream",
     "text": [
      "500\n",
      "20\n"
     ]
    }
   ],
   "source": [
    "plc_var_name = 'Main.FB_NN.nn.layers[1].num_neurons'\n",
    "\n",
    "\n",
    "with pyads.Connection('127.0.0.1.1.1', pyads.PORT_TC3PLC1) as plc:\n",
    "    num_neurons = plc.read_by_name(plc_var_name, pyads.PLCTYPE_UINT)\n",
    "    print(num_neurons)\n",
    "with pyads.Connection('127.0.0.1.1.1', pyads.PORT_TC3PLC1) as plc:\n",
    "    num_neurons = plc.write_by_name(plc_var_name, 20 ,pyads.PLCTYPE_UINT)\n",
    "\n",
    "with pyads.Connection('127.0.0.1.1.1', pyads.PORT_TC3PLC1) as plc:\n",
    "    num_neurons = plc.read_by_name(plc_var_name, pyads.PLCTYPE_UINT)\n",
    "    print(num_neurons)\n",
    "\n"
   ]
  },
  {
   "cell_type": "code",
   "execution_count": 4,
   "metadata": {},
   "outputs": [
    {
     "name": "stdout",
     "output_type": "stream",
     "text": [
      "6\n",
      "3\n"
     ]
    }
   ],
   "source": [
    "plc_var_name = 'Main.FB_NN.nn.num_layers'\n",
    "\n",
    "with pyads.Connection('127.0.0.1.1.1', pyads.PORT_TC3PLC1) as plc:\n",
    "    num_layers = plc.read_by_name(plc_var_name, pyads.PLCTYPE_UINT)\n",
    "    print(num_layers)\n",
    "\n",
    "    num_layers = plc.write_by_name(plc_var_name, 3 ,pyads.PLCTYPE_UINT)\n",
    "\n",
    "    num_layers = plc.read_by_name(plc_var_name, pyads.PLCTYPE_UINT)\n",
    "    print(num_layers)\n",
    "\n"
   ]
  }
 ],
 "metadata": {
  "kernelspec": {
   "display_name": "Python 3",
   "language": "python",
   "name": "python3"
  },
  "language_info": {
   "codemirror_mode": {
    "name": "ipython",
    "version": 3
   },
   "file_extension": ".py",
   "mimetype": "text/x-python",
   "name": "python",
   "nbconvert_exporter": "python",
   "pygments_lexer": "ipython3",
   "version": "3.12.1"
  }
 },
 "nbformat": 4,
 "nbformat_minor": 2
}
