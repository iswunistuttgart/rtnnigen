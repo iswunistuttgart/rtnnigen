{
 "cells": [
  {
   "cell_type": "code",
   "execution_count": 1,
   "metadata": {},
   "outputs": [],
   "source": [
    "# import numpy as np\n",
    "# import pandas as pd\n",
    "# import pyads\n",
    "\n",
    "# read csv\n",
    "# raw_data = pd.read_csv('Traj_Testcase.csv')\n",
    "# raw_data = raw_data.to_numpy() \n",
    "\n",
    "\n",
    "# x_des = raw_data[:,1]\n",
    "# v_des = raw_data[:,2]\n",
    "\n",
    "\n",
    "# data_to_send = x_des\n",
    "# plc_var_name = 'GVL_Runtime_Test.x_des'\n",
    "# data_list = data_to_send.tolist()\n",
    "\n",
    "# plc = pyads.Connection('127.0.0.1.1.1', pyads.PORT_TC3PLC1)\n",
    "# plc.open()\n",
    "# plc.write_by_name(plc_var_name,data_list, pyads.PLCTYPE_LREAL*len(data_list))\n",
    "# plc.close()\n",
    "\n",
    "\n",
    "\n",
    "# data_to_send = v_des\n",
    "# plc_var_name = 'GVL_Runtime_Test.v_des'\n",
    "# data_list = data_to_send.tolist()\n",
    "\n",
    "# plc = pyads.Connection('127.0.0.1.1.1', pyads.PORT_TC3PLC1)\n",
    "# plc.open()\n",
    "# plc.write_by_name(plc_var_name,data_list, pyads.PLCTYPE_LREAL*len(data_list))\n",
    "# plc.close()\n",
    "\n"
   ]
  },
  {
   "cell_type": "code",
   "execution_count": 3,
   "metadata": {},
   "outputs": [],
   "source": [
    "import pandas as pd\n",
    "import pyads\n",
    "document_name = ['norm_mean_out.csv','norm_std_out.csv','norm_mean_in.csv','norm_std_in.csv',\n",
    "                 'layer1_bias.csv','layer1_weight.csv','layer2_bias.csv','layer2_weight.csv','layer3_bias.csv','layer3_weight.csv']\n",
    "variable_name = ['GVL_Param_NN.norm_mean_out','GVL_Param_NN.norm_std_out','GVL_Param_NN.norm_mean_in','GVL_Param_NN.norm_std_in',\n",
    "                 'GVL_Param_NN.HiddenLayer1_Bias','GVL_Param_NN.HiddenLayer1_Weight','GVL_Param_NN.HiddenLayer2_Bias','GVL_Param_NN.HiddenLayer2_Weight',\n",
    "                 'GVL_Param_NN.OutputLayer_Bias','GVL_Param_NN.OutputLayer_Weight']\n",
    "for i in range(len(document_name)):\n",
    "    data = pd.read_csv(document_name[i],header=None)\n",
    "    data = data.to_numpy().flatten()\n",
    "\n",
    "    data_to_send = data\n",
    "    plc_var_name = variable_name[i]\n",
    "    data_list = data_to_send.tolist()\n",
    "\n",
    "    plc = pyads.Connection('127.0.0.1.1.1', pyads.PORT_TC3PLC1)\n",
    "    plc.open()\n",
    "    plc.write_by_name(plc_var_name,data_list, pyads.PLCTYPE_LREAL*len(data_list))\n",
    "    plc.close()"
   ]
  }
 ],
 "metadata": {
  "kernelspec": {
   "display_name": "Python 3",
   "language": "python",
   "name": "python3"
  },
  "language_info": {
   "codemirror_mode": {
    "name": "ipython",
    "version": 3
   },
   "file_extension": ".py",
   "mimetype": "text/x-python",
   "name": "python",
   "nbconvert_exporter": "python",
   "pygments_lexer": "ipython3",
   "version": "3.12.1"
  }
 },
 "nbformat": 4,
 "nbformat_minor": 2
}
