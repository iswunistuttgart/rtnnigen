{
 "cells": [
  {
   "cell_type": "code",
   "execution_count": 38,
   "metadata": {},
   "outputs": [],
   "source": [
    "import pandas as pd\n",
    "import os\n",
    "import numpy as np\n",
    "import plotly.express as px\n",
    "import plotly.graph_objects as go\n",
    "\n",
    "num_layers = [6, 5, 4, 3]\n",
    "num_neurons = [500, 400, 300, 200, 100, 10]"
   ]
  },
  {
   "cell_type": "code",
   "execution_count": 22,
   "metadata": {},
   "outputs": [],
   "source": [
    "df_relu = pd.read_pickle(os.path.join('orig_measurement_df','exe_time_measurement_relu_arch.pkl'))\n",
    "df_tanh = pd.read_pickle(os.path.join('orig_measurement_df','exe_time_measurement_tanh_arch.pkl'))\n",
    "df_sigmoid = pd.read_pickle(os.path.join('orig_measurement_df','exe_time_measurement_sigmoid_arch.pkl'))"
   ]
  },
  {
   "cell_type": "code",
   "execution_count": 29,
   "metadata": {},
   "outputs": [],
   "source": [
    "mean_relu = []\n",
    "mean_tanh = []\n",
    "mean_sigmoid = []\n",
    "\n",
    "for i in num_layers:\n",
    "    mean_relu.append([])\n",
    "    mean_tanh.append([])\n",
    "    mean_sigmoid.append([])\n",
    "    for j in num_neurons:\n",
    "        mean_relu[-1].append(df_relu.loc[(df_relu['num_layers'] == i) & (df_relu['num_neurons'] == j)]['measurement'].mean())\n",
    "        mean_tanh[-1].append(df_tanh.loc[(df_tanh['num_layers'] == i) & (df_tanh['num_neurons'] == j)]['measurement'].mean())\n",
    "        mean_sigmoid[-1].append(df_sigmoid.loc[(df_sigmoid['num_layers'] == i) & (df_sigmoid['num_neurons'] == j)]['measurement'].mean())        \n",
    "\n",
    "mean_relu = np.array(mean_relu)\n",
    "mean_tanh = np.array(mean_tanh)\n",
    "mean_sigmoid = np.array(mean_sigmoid)"
   ]
  },
  {
   "cell_type": "code",
   "execution_count": 36,
   "metadata": {},
   "outputs": [
    {
     "name": "stdout",
     "output_type": "stream",
     "text": [
      "[[   6.91139818    7.42740624   10.2604819    16.11984987   31.57100956\n",
      "   227.75974026]\n",
      " [   8.19393036    9.67260945   11.04972626   17.36232708   33.92763434\n",
      "   295.65217391]\n",
      " [   8.96478872   11.1540084    14.62119456   21.19754182   39.45791935\n",
      "   200.2       ]\n",
      " [ 113.86765259  118.11697575  116.31493079  115.98796853  133.1613118\n",
      "  2310.84337349]]\n",
      "[[   3.28784611    4.08642032    5.15680922    6.53111046   12.61322946\n",
      "   143.50649351]\n",
      " [   4.3305771     4.06088795    4.12726423    6.72199511   12.93424643\n",
      "   167.78656126]\n",
      " [   3.55814303    4.66935525    6.02608756    8.08176411   15.40522112\n",
      "   100.        ]\n",
      " [  37.9057526    38.79378665   38.32429872   38.84775567   49.82520393\n",
      "  1116.86746988]]\n"
     ]
    }
   ],
   "source": [
    "mean_tanh_add = (mean_tanh / mean_relu -1)*100\n",
    "mean_sigmoid_add = (mean_sigmoid / mean_relu -1)*100\n",
    "print(mean_tanh_add)\n",
    "print(mean_sigmoid_add)\n"
   ]
  },
  {
   "cell_type": "code",
   "execution_count": 64,
   "metadata": {},
   "outputs": [
    {
     "data": {
      "application/vnd.plotly.v1+json": {
       "config": {
        "plotlyServerURL": "https://plot.ly"
       },
       "data": [
        {
         "marker": {
          "color": "rgb(255,0,0)"
         },
         "name": "4",
         "type": "scatter",
         "x": [
          500,
          400,
          300,
          200,
          100,
          10
         ],
         "y": [
          6.911398183633088,
          7.427406236660872,
          10.260481901262475,
          16.119849871378577,
          31.57100955800032,
          227.7597402597403
         ]
        },
        {
         "marker": {
          "color": "rgb(0,255,0)"
         },
         "name": "3",
         "type": "scatter",
         "x": [
          500,
          400,
          300,
          200,
          100,
          10
         ],
         "y": [
          8.193930364386848,
          9.672609450496704,
          11.049726256730462,
          17.362327084325614,
          33.92763434088999,
          295.65217391304344
         ]
        },
        {
         "marker": {
          "color": "rgb(0,0,255)"
         },
         "name": "2",
         "type": "scatter",
         "x": [
          500,
          400,
          300,
          200,
          100,
          10
         ],
         "y": [
          8.964788724772355,
          11.154008403219539,
          14.621194560927652,
          21.197541818659804,
          39.45791934541205,
          200.2
         ]
        },
        {
         "marker": {
          "color": "rgb(255,255,0)"
         },
         "name": "1",
         "type": "scatter",
         "x": [
          500,
          400,
          300,
          200,
          100,
          10
         ],
         "y": [
          113.86765258804358,
          118.11697574893007,
          116.31493079311612,
          115.98796853308654,
          133.16131180289665,
          2310.8433734939754
         ]
        },
        {
         "line": {
          "dash": "dash"
         },
         "marker": {
          "color": "rgb(255,0,0)"
         },
         "showlegend": false,
         "type": "scatter",
         "x": [
          500,
          400,
          300,
          200,
          100,
          10
         ],
         "y": [
          3.287846109199566,
          4.086420322792783,
          5.156809222370273,
          6.531110455118383,
          12.613229456776187,
          143.50649350649348
         ]
        },
        {
         "line": {
          "dash": "dash"
         },
         "marker": {
          "color": "rgb(0,255,0)"
         },
         "showlegend": false,
         "type": "scatter",
         "x": [
          500,
          400,
          300,
          200,
          100,
          10
         ],
         "y": [
          4.33057709942648,
          4.06088795216879,
          4.127264226354765,
          6.721995113643753,
          12.934246431570106,
          167.78656126482213
         ]
        },
        {
         "line": {
          "dash": "dash"
         },
         "marker": {
          "color": "rgb(0,0,255)"
         },
         "showlegend": false,
         "type": "scatter",
         "x": [
          500,
          400,
          300,
          200,
          100,
          10
         ],
         "y": [
          3.5581430335618114,
          4.669355246950047,
          6.026087558588622,
          8.081764106608812,
          15.405221118254442,
          100
         ]
        },
        {
         "line": {
          "dash": "dash"
         },
         "marker": {
          "color": "rgb(255,255,0)"
         },
         "showlegend": false,
         "type": "scatter",
         "x": [
          500,
          400,
          300,
          200,
          100,
          10
         ],
         "y": [
          37.90575260057651,
          38.79378665398639,
          38.32429872111993,
          38.847755668671915,
          49.82520392874981,
          1116.867469879518
         ]
        }
       ],
       "layout": {
        "template": {
         "data": {
          "bar": [
           {
            "error_x": {
             "color": "#2a3f5f"
            },
            "error_y": {
             "color": "#2a3f5f"
            },
            "marker": {
             "line": {
              "color": "#E5ECF6",
              "width": 0.5
             },
             "pattern": {
              "fillmode": "overlay",
              "size": 10,
              "solidity": 0.2
             }
            },
            "type": "bar"
           }
          ],
          "barpolar": [
           {
            "marker": {
             "line": {
              "color": "#E5ECF6",
              "width": 0.5
             },
             "pattern": {
              "fillmode": "overlay",
              "size": 10,
              "solidity": 0.2
             }
            },
            "type": "barpolar"
           }
          ],
          "carpet": [
           {
            "aaxis": {
             "endlinecolor": "#2a3f5f",
             "gridcolor": "white",
             "linecolor": "white",
             "minorgridcolor": "white",
             "startlinecolor": "#2a3f5f"
            },
            "baxis": {
             "endlinecolor": "#2a3f5f",
             "gridcolor": "white",
             "linecolor": "white",
             "minorgridcolor": "white",
             "startlinecolor": "#2a3f5f"
            },
            "type": "carpet"
           }
          ],
          "choropleth": [
           {
            "colorbar": {
             "outlinewidth": 0,
             "ticks": ""
            },
            "type": "choropleth"
           }
          ],
          "contour": [
           {
            "colorbar": {
             "outlinewidth": 0,
             "ticks": ""
            },
            "colorscale": [
             [
              0,
              "#0d0887"
             ],
             [
              0.1111111111111111,
              "#46039f"
             ],
             [
              0.2222222222222222,
              "#7201a8"
             ],
             [
              0.3333333333333333,
              "#9c179e"
             ],
             [
              0.4444444444444444,
              "#bd3786"
             ],
             [
              0.5555555555555556,
              "#d8576b"
             ],
             [
              0.6666666666666666,
              "#ed7953"
             ],
             [
              0.7777777777777778,
              "#fb9f3a"
             ],
             [
              0.8888888888888888,
              "#fdca26"
             ],
             [
              1,
              "#f0f921"
             ]
            ],
            "type": "contour"
           }
          ],
          "contourcarpet": [
           {
            "colorbar": {
             "outlinewidth": 0,
             "ticks": ""
            },
            "type": "contourcarpet"
           }
          ],
          "heatmap": [
           {
            "colorbar": {
             "outlinewidth": 0,
             "ticks": ""
            },
            "colorscale": [
             [
              0,
              "#0d0887"
             ],
             [
              0.1111111111111111,
              "#46039f"
             ],
             [
              0.2222222222222222,
              "#7201a8"
             ],
             [
              0.3333333333333333,
              "#9c179e"
             ],
             [
              0.4444444444444444,
              "#bd3786"
             ],
             [
              0.5555555555555556,
              "#d8576b"
             ],
             [
              0.6666666666666666,
              "#ed7953"
             ],
             [
              0.7777777777777778,
              "#fb9f3a"
             ],
             [
              0.8888888888888888,
              "#fdca26"
             ],
             [
              1,
              "#f0f921"
             ]
            ],
            "type": "heatmap"
           }
          ],
          "heatmapgl": [
           {
            "colorbar": {
             "outlinewidth": 0,
             "ticks": ""
            },
            "colorscale": [
             [
              0,
              "#0d0887"
             ],
             [
              0.1111111111111111,
              "#46039f"
             ],
             [
              0.2222222222222222,
              "#7201a8"
             ],
             [
              0.3333333333333333,
              "#9c179e"
             ],
             [
              0.4444444444444444,
              "#bd3786"
             ],
             [
              0.5555555555555556,
              "#d8576b"
             ],
             [
              0.6666666666666666,
              "#ed7953"
             ],
             [
              0.7777777777777778,
              "#fb9f3a"
             ],
             [
              0.8888888888888888,
              "#fdca26"
             ],
             [
              1,
              "#f0f921"
             ]
            ],
            "type": "heatmapgl"
           }
          ],
          "histogram": [
           {
            "marker": {
             "pattern": {
              "fillmode": "overlay",
              "size": 10,
              "solidity": 0.2
             }
            },
            "type": "histogram"
           }
          ],
          "histogram2d": [
           {
            "colorbar": {
             "outlinewidth": 0,
             "ticks": ""
            },
            "colorscale": [
             [
              0,
              "#0d0887"
             ],
             [
              0.1111111111111111,
              "#46039f"
             ],
             [
              0.2222222222222222,
              "#7201a8"
             ],
             [
              0.3333333333333333,
              "#9c179e"
             ],
             [
              0.4444444444444444,
              "#bd3786"
             ],
             [
              0.5555555555555556,
              "#d8576b"
             ],
             [
              0.6666666666666666,
              "#ed7953"
             ],
             [
              0.7777777777777778,
              "#fb9f3a"
             ],
             [
              0.8888888888888888,
              "#fdca26"
             ],
             [
              1,
              "#f0f921"
             ]
            ],
            "type": "histogram2d"
           }
          ],
          "histogram2dcontour": [
           {
            "colorbar": {
             "outlinewidth": 0,
             "ticks": ""
            },
            "colorscale": [
             [
              0,
              "#0d0887"
             ],
             [
              0.1111111111111111,
              "#46039f"
             ],
             [
              0.2222222222222222,
              "#7201a8"
             ],
             [
              0.3333333333333333,
              "#9c179e"
             ],
             [
              0.4444444444444444,
              "#bd3786"
             ],
             [
              0.5555555555555556,
              "#d8576b"
             ],
             [
              0.6666666666666666,
              "#ed7953"
             ],
             [
              0.7777777777777778,
              "#fb9f3a"
             ],
             [
              0.8888888888888888,
              "#fdca26"
             ],
             [
              1,
              "#f0f921"
             ]
            ],
            "type": "histogram2dcontour"
           }
          ],
          "mesh3d": [
           {
            "colorbar": {
             "outlinewidth": 0,
             "ticks": ""
            },
            "type": "mesh3d"
           }
          ],
          "parcoords": [
           {
            "line": {
             "colorbar": {
              "outlinewidth": 0,
              "ticks": ""
             }
            },
            "type": "parcoords"
           }
          ],
          "pie": [
           {
            "automargin": true,
            "type": "pie"
           }
          ],
          "scatter": [
           {
            "fillpattern": {
             "fillmode": "overlay",
             "size": 10,
             "solidity": 0.2
            },
            "type": "scatter"
           }
          ],
          "scatter3d": [
           {
            "line": {
             "colorbar": {
              "outlinewidth": 0,
              "ticks": ""
             }
            },
            "marker": {
             "colorbar": {
              "outlinewidth": 0,
              "ticks": ""
             }
            },
            "type": "scatter3d"
           }
          ],
          "scattercarpet": [
           {
            "marker": {
             "colorbar": {
              "outlinewidth": 0,
              "ticks": ""
             }
            },
            "type": "scattercarpet"
           }
          ],
          "scattergeo": [
           {
            "marker": {
             "colorbar": {
              "outlinewidth": 0,
              "ticks": ""
             }
            },
            "type": "scattergeo"
           }
          ],
          "scattergl": [
           {
            "marker": {
             "colorbar": {
              "outlinewidth": 0,
              "ticks": ""
             }
            },
            "type": "scattergl"
           }
          ],
          "scattermapbox": [
           {
            "marker": {
             "colorbar": {
              "outlinewidth": 0,
              "ticks": ""
             }
            },
            "type": "scattermapbox"
           }
          ],
          "scatterpolar": [
           {
            "marker": {
             "colorbar": {
              "outlinewidth": 0,
              "ticks": ""
             }
            },
            "type": "scatterpolar"
           }
          ],
          "scatterpolargl": [
           {
            "marker": {
             "colorbar": {
              "outlinewidth": 0,
              "ticks": ""
             }
            },
            "type": "scatterpolargl"
           }
          ],
          "scatterternary": [
           {
            "marker": {
             "colorbar": {
              "outlinewidth": 0,
              "ticks": ""
             }
            },
            "type": "scatterternary"
           }
          ],
          "surface": [
           {
            "colorbar": {
             "outlinewidth": 0,
             "ticks": ""
            },
            "colorscale": [
             [
              0,
              "#0d0887"
             ],
             [
              0.1111111111111111,
              "#46039f"
             ],
             [
              0.2222222222222222,
              "#7201a8"
             ],
             [
              0.3333333333333333,
              "#9c179e"
             ],
             [
              0.4444444444444444,
              "#bd3786"
             ],
             [
              0.5555555555555556,
              "#d8576b"
             ],
             [
              0.6666666666666666,
              "#ed7953"
             ],
             [
              0.7777777777777778,
              "#fb9f3a"
             ],
             [
              0.8888888888888888,
              "#fdca26"
             ],
             [
              1,
              "#f0f921"
             ]
            ],
            "type": "surface"
           }
          ],
          "table": [
           {
            "cells": {
             "fill": {
              "color": "#EBF0F8"
             },
             "line": {
              "color": "white"
             }
            },
            "header": {
             "fill": {
              "color": "#C8D4E3"
             },
             "line": {
              "color": "white"
             }
            },
            "type": "table"
           }
          ]
         },
         "layout": {
          "annotationdefaults": {
           "arrowcolor": "#2a3f5f",
           "arrowhead": 0,
           "arrowwidth": 1
          },
          "autotypenumbers": "strict",
          "coloraxis": {
           "colorbar": {
            "outlinewidth": 0,
            "ticks": ""
           }
          },
          "colorscale": {
           "diverging": [
            [
             0,
             "#8e0152"
            ],
            [
             0.1,
             "#c51b7d"
            ],
            [
             0.2,
             "#de77ae"
            ],
            [
             0.3,
             "#f1b6da"
            ],
            [
             0.4,
             "#fde0ef"
            ],
            [
             0.5,
             "#f7f7f7"
            ],
            [
             0.6,
             "#e6f5d0"
            ],
            [
             0.7,
             "#b8e186"
            ],
            [
             0.8,
             "#7fbc41"
            ],
            [
             0.9,
             "#4d9221"
            ],
            [
             1,
             "#276419"
            ]
           ],
           "sequential": [
            [
             0,
             "#0d0887"
            ],
            [
             0.1111111111111111,
             "#46039f"
            ],
            [
             0.2222222222222222,
             "#7201a8"
            ],
            [
             0.3333333333333333,
             "#9c179e"
            ],
            [
             0.4444444444444444,
             "#bd3786"
            ],
            [
             0.5555555555555556,
             "#d8576b"
            ],
            [
             0.6666666666666666,
             "#ed7953"
            ],
            [
             0.7777777777777778,
             "#fb9f3a"
            ],
            [
             0.8888888888888888,
             "#fdca26"
            ],
            [
             1,
             "#f0f921"
            ]
           ],
           "sequentialminus": [
            [
             0,
             "#0d0887"
            ],
            [
             0.1111111111111111,
             "#46039f"
            ],
            [
             0.2222222222222222,
             "#7201a8"
            ],
            [
             0.3333333333333333,
             "#9c179e"
            ],
            [
             0.4444444444444444,
             "#bd3786"
            ],
            [
             0.5555555555555556,
             "#d8576b"
            ],
            [
             0.6666666666666666,
             "#ed7953"
            ],
            [
             0.7777777777777778,
             "#fb9f3a"
            ],
            [
             0.8888888888888888,
             "#fdca26"
            ],
            [
             1,
             "#f0f921"
            ]
           ]
          },
          "colorway": [
           "#636efa",
           "#EF553B",
           "#00cc96",
           "#ab63fa",
           "#FFA15A",
           "#19d3f3",
           "#FF6692",
           "#B6E880",
           "#FF97FF",
           "#FECB52"
          ],
          "font": {
           "color": "#2a3f5f"
          },
          "geo": {
           "bgcolor": "white",
           "lakecolor": "white",
           "landcolor": "#E5ECF6",
           "showlakes": true,
           "showland": true,
           "subunitcolor": "white"
          },
          "hoverlabel": {
           "align": "left"
          },
          "hovermode": "closest",
          "mapbox": {
           "style": "light"
          },
          "paper_bgcolor": "white",
          "plot_bgcolor": "#E5ECF6",
          "polar": {
           "angularaxis": {
            "gridcolor": "white",
            "linecolor": "white",
            "ticks": ""
           },
           "bgcolor": "#E5ECF6",
           "radialaxis": {
            "gridcolor": "white",
            "linecolor": "white",
            "ticks": ""
           }
          },
          "scene": {
           "xaxis": {
            "backgroundcolor": "#E5ECF6",
            "gridcolor": "white",
            "gridwidth": 2,
            "linecolor": "white",
            "showbackground": true,
            "ticks": "",
            "zerolinecolor": "white"
           },
           "yaxis": {
            "backgroundcolor": "#E5ECF6",
            "gridcolor": "white",
            "gridwidth": 2,
            "linecolor": "white",
            "showbackground": true,
            "ticks": "",
            "zerolinecolor": "white"
           },
           "zaxis": {
            "backgroundcolor": "#E5ECF6",
            "gridcolor": "white",
            "gridwidth": 2,
            "linecolor": "white",
            "showbackground": true,
            "ticks": "",
            "zerolinecolor": "white"
           }
          },
          "shapedefaults": {
           "line": {
            "color": "#2a3f5f"
           }
          },
          "ternary": {
           "aaxis": {
            "gridcolor": "white",
            "linecolor": "white",
            "ticks": ""
           },
           "baxis": {
            "gridcolor": "white",
            "linecolor": "white",
            "ticks": ""
           },
           "bgcolor": "#E5ECF6",
           "caxis": {
            "gridcolor": "white",
            "linecolor": "white",
            "ticks": ""
           }
          },
          "title": {
           "x": 0.05
          },
          "xaxis": {
           "automargin": true,
           "gridcolor": "white",
           "linecolor": "white",
           "ticks": "",
           "title": {
            "standoff": 15
           },
           "zerolinecolor": "white",
           "zerolinewidth": 2
          },
          "yaxis": {
           "automargin": true,
           "gridcolor": "white",
           "linecolor": "white",
           "ticks": "",
           "title": {
            "standoff": 15
           },
           "zerolinecolor": "white",
           "zerolinewidth": 2
          }
         }
        },
        "xaxis": {
         "title": {
          "text": "Number of Neurons in each layer"
         }
        },
        "yaxis": {
         "title": {
          "text": "Variation to relu (%)"
         }
        }
       }
      }
     },
     "metadata": {},
     "output_type": "display_data"
    }
   ],
   "source": [
    "color_map = {6: 'rgb(255,0,0)', 5: 'rgb(0,255,0)', 4: 'rgb(0,0,255)', 3: 'rgb(255,255,0)'}\n",
    "fig = go.Figure()\n",
    "fig.add_trace(go.Scatter(x=num_neurons,y=mean_tanh_add[0,:],name='4',marker={'color': color_map[6]}))\n",
    "fig.add_trace(go.Scatter(x=num_neurons,y=mean_tanh_add[1,:],name='3',marker={'color': color_map[5]}))\n",
    "fig.add_trace(go.Scatter(x=num_neurons,y=mean_tanh_add[2,:],name='2',marker={'color': color_map[4]}))\n",
    "fig.add_trace(go.Scatter(x=num_neurons,y=mean_tanh_add[3,:],name='1',marker={'color': color_map[3]}))\n",
    "\n",
    "fig.add_trace(go.Scatter(x=num_neurons,y=mean_sigmoid_add[0,:],marker={'color': color_map[6]},line={'dash':'dash'},showlegend=False))\n",
    "fig.add_trace(go.Scatter(x=num_neurons,y=mean_sigmoid_add[1,:],marker={'color': color_map[5]},line={'dash':'dash'},showlegend=False))\n",
    "fig.add_trace(go.Scatter(x=num_neurons,y=mean_sigmoid_add[2,:],marker={'color': color_map[4]},line={'dash':'dash'},showlegend=False))\n",
    "fig.add_trace(go.Scatter(x=num_neurons,y=mean_sigmoid_add[3,:],marker={'color': color_map[3]},line={'dash':'dash'},showlegend=False))\n",
    "\n",
    "fig.update_layout(xaxis_title=\"Number of Neurons in each layer\", yaxis_title=\"Variation to relu (%)\")\n",
    "fig.show()"
   ]
  },
  {
   "cell_type": "code",
   "execution_count": 47,
   "metadata": {},
   "outputs": [
    {
     "data": {
      "text/plain": [
       "'rgb(255,0,0)'"
      ]
     },
     "execution_count": 47,
     "metadata": {},
     "output_type": "execute_result"
    }
   ],
   "source": [
    "color_map[6]"
   ]
  }
 ],
 "metadata": {
  "kernelspec": {
   "display_name": "Python 3",
   "language": "python",
   "name": "python3"
  },
  "language_info": {
   "codemirror_mode": {
    "name": "ipython",
    "version": 3
   },
   "file_extension": ".py",
   "mimetype": "text/x-python",
   "name": "python",
   "nbconvert_exporter": "python",
   "pygments_lexer": "ipython3",
   "version": "3.12.1"
  }
 },
 "nbformat": 4,
 "nbformat_minor": 2
}
