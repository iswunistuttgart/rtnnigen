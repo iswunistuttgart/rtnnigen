{
 "cells": [
  {
   "cell_type": "code",
   "execution_count": 1,
   "metadata": {},
   "outputs": [],
   "source": [
    "import pandas as pd\n",
    "import os\n",
    "import numpy as np\n",
    "import plotly.express as px\n",
    "import plotly.graph_objects as go\n",
    "\n",
    "num_layers = [6, 5, 4, 3]\n",
    "num_neurons = [500, 400, 300, 200, 100, 10]"
   ]
  },
  {
   "cell_type": "code",
   "execution_count": 2,
   "metadata": {},
   "outputs": [],
   "source": [
    "df_relu = pd.read_pickle(os.path.join('orig_measurement_df','exe_time_measurement_relu_arch.pkl'))\n",
    "df_tanh = pd.read_pickle(os.path.join('orig_measurement_df','exe_time_measurement_tanh_arch.pkl'))\n",
    "df_sigmoid = pd.read_pickle(os.path.join('orig_measurement_df','exe_time_measurement_sigmoid_arch.pkl'))"
   ]
  },
  {
   "cell_type": "code",
   "execution_count": 3,
   "metadata": {},
   "outputs": [],
   "source": [
    "mean_relu = []\n",
    "mean_tanh = []\n",
    "mean_sigmoid = []\n",
    "\n",
    "for i in num_layers:\n",
    "    mean_relu.append([])\n",
    "    mean_tanh.append([])\n",
    "    mean_sigmoid.append([])\n",
    "    for j in num_neurons:\n",
    "        mean_relu[-1].append(df_relu.loc[(df_relu['num_layers'] == i) & (df_relu['num_neurons'] == j)]['measurement'].mean())\n",
    "        mean_tanh[-1].append(df_tanh.loc[(df_tanh['num_layers'] == i) & (df_tanh['num_neurons'] == j)]['measurement'].mean())\n",
    "        mean_sigmoid[-1].append(df_sigmoid.loc[(df_sigmoid['num_layers'] == i) & (df_sigmoid['num_neurons'] == j)]['measurement'].mean())        \n",
    "\n",
    "mean_relu = np.array(mean_relu)\n",
    "mean_tanh = np.array(mean_tanh)\n",
    "mean_sigmoid = np.array(mean_sigmoid)"
   ]
  },
  {
   "cell_type": "code",
   "execution_count": 4,
   "metadata": {},
   "outputs": [
    {
     "name": "stdout",
     "output_type": "stream",
     "text": [
      "[[263.635 193.797 126.927  88.005  43.875   3.49 ]\n",
      " [175.836 129.845 101.746  69.255  34.342   2.97 ]\n",
      " [126.728 102.022  74.954  50.685  25.185   2.01 ]\n",
      " [ 77.917  64.06   47.723  31.561  15.763   1.898]]\n",
      "[[87.588 82.041 56.656 35.129 17.159  1.007]\n",
      " [41.847 37.118 38.874 28.037 13.579  1.878]\n",
      " [47.888 39.003 27.625 20.112  9.264  1.   ]\n",
      " [28.207 23.199 18.805 12.164  6.275  0.899]]\n"
     ]
    }
   ],
   "source": [
    "mean_tanh_add = mean_tanh - mean_relu\n",
    "mean_sigmoid_add = mean_sigmoid - mean_relu\n",
    "print(mean_tanh_add)\n",
    "print(mean_sigmoid_add)\n"
   ]
  },
  {
   "cell_type": "code",
   "execution_count": 5,
   "metadata": {},
   "outputs": [
    {
     "data": {
      "application/vnd.plotly.v1+json": {
       "config": {
        "plotlyServerURL": "https://plot.ly"
       },
       "data": [
        {
         "marker": {
          "color": "rgb(255,0,0)"
         },
         "name": "4",
         "type": "scatter",
         "x": [
          500,
          400,
          300,
          200,
          100,
          10
         ],
         "y": [
          263.63499999999976,
          193.79699999999957,
          126.92700000000013,
          88.005,
          43.875,
          3.49
         ]
        },
        {
         "marker": {
          "color": "rgb(0,255,0)"
         },
         "name": "3",
         "type": "scatter",
         "x": [
          500,
          400,
          300,
          200,
          100,
          10
         ],
         "y": [
          175.83600000000024,
          129.84500000000003,
          101.74599999999998,
          69.255,
          34.342,
          2.97
         ]
        },
        {
         "marker": {
          "color": "rgb(0,0,255)"
         },
         "name": "2",
         "type": "scatter",
         "x": [
          500,
          400,
          300,
          200,
          100,
          10
         ],
         "y": [
          126.72800000000007,
          102.02200000000016,
          74.95400000000006,
          50.685,
          25.185000000000002,
          2.0100000000000002
         ]
        },
        {
         "marker": {
          "color": "rgb(255,255,0)"
         },
         "name": "1",
         "type": "scatter",
         "x": [
          500,
          400,
          300,
          200,
          100,
          10
         ],
         "y": [
          77.91700000000003,
          64.06000000000006,
          47.72300000000001,
          31.561000000000007,
          15.762999999999998,
          1.898
         ]
        },
        {
         "line": {
          "dash": "dash"
         },
         "marker": {
          "color": "rgb(255,0,0)"
         },
         "showlegend": false,
         "type": "scatter",
         "x": [
          500,
          400,
          300,
          200,
          100,
          10
         ],
         "y": [
          87.58799999999974,
          82.04099999999971,
          56.65599999999995,
          35.12900000000002,
          17.158999999999992,
          1.0070000000000001
         ]
        },
        {
         "line": {
          "dash": "dash"
         },
         "marker": {
          "color": "rgb(0,255,0)"
         },
         "showlegend": false,
         "type": "scatter",
         "x": [
          500,
          400,
          300,
          200,
          100,
          10
         ],
         "y": [
          41.84700000000021,
          37.11799999999994,
          38.874000000000024,
          28.036999999999978,
          13.579000000000008,
          1.8780000000000001
         ]
        },
        {
         "line": {
          "dash": "dash"
         },
         "marker": {
          "color": "rgb(0,0,255)"
         },
         "showlegend": false,
         "type": "scatter",
         "x": [
          500,
          400,
          300,
          200,
          100,
          10
         ],
         "y": [
          47.88799999999992,
          39.003000000000156,
          27.625,
          20.111999999999966,
          9.263999999999996,
          1
         ]
        },
        {
         "line": {
          "dash": "dash"
         },
         "marker": {
          "color": "rgb(255,255,0)"
         },
         "showlegend": false,
         "type": "scatter",
         "x": [
          500,
          400,
          300,
          200,
          100,
          10
         ],
         "y": [
          28.206999999999994,
          23.19900000000007,
          18.805000000000007,
          12.163999999999987,
          6.274999999999999,
          0.8989999999999999
         ]
        }
       ],
       "layout": {
        "template": {
         "data": {
          "bar": [
           {
            "error_x": {
             "color": "#2a3f5f"
            },
            "error_y": {
             "color": "#2a3f5f"
            },
            "marker": {
             "line": {
              "color": "#E5ECF6",
              "width": 0.5
             },
             "pattern": {
              "fillmode": "overlay",
              "size": 10,
              "solidity": 0.2
             }
            },
            "type": "bar"
           }
          ],
          "barpolar": [
           {
            "marker": {
             "line": {
              "color": "#E5ECF6",
              "width": 0.5
             },
             "pattern": {
              "fillmode": "overlay",
              "size": 10,
              "solidity": 0.2
             }
            },
            "type": "barpolar"
           }
          ],
          "carpet": [
           {
            "aaxis": {
             "endlinecolor": "#2a3f5f",
             "gridcolor": "white",
             "linecolor": "white",
             "minorgridcolor": "white",
             "startlinecolor": "#2a3f5f"
            },
            "baxis": {
             "endlinecolor": "#2a3f5f",
             "gridcolor": "white",
             "linecolor": "white",
             "minorgridcolor": "white",
             "startlinecolor": "#2a3f5f"
            },
            "type": "carpet"
           }
          ],
          "choropleth": [
           {
            "colorbar": {
             "outlinewidth": 0,
             "ticks": ""
            },
            "type": "choropleth"
           }
          ],
          "contour": [
           {
            "colorbar": {
             "outlinewidth": 0,
             "ticks": ""
            },
            "colorscale": [
             [
              0,
              "#0d0887"
             ],
             [
              0.1111111111111111,
              "#46039f"
             ],
             [
              0.2222222222222222,
              "#7201a8"
             ],
             [
              0.3333333333333333,
              "#9c179e"
             ],
             [
              0.4444444444444444,
              "#bd3786"
             ],
             [
              0.5555555555555556,
              "#d8576b"
             ],
             [
              0.6666666666666666,
              "#ed7953"
             ],
             [
              0.7777777777777778,
              "#fb9f3a"
             ],
             [
              0.8888888888888888,
              "#fdca26"
             ],
             [
              1,
              "#f0f921"
             ]
            ],
            "type": "contour"
           }
          ],
          "contourcarpet": [
           {
            "colorbar": {
             "outlinewidth": 0,
             "ticks": ""
            },
            "type": "contourcarpet"
           }
          ],
          "heatmap": [
           {
            "colorbar": {
             "outlinewidth": 0,
             "ticks": ""
            },
            "colorscale": [
             [
              0,
              "#0d0887"
             ],
             [
              0.1111111111111111,
              "#46039f"
             ],
             [
              0.2222222222222222,
              "#7201a8"
             ],
             [
              0.3333333333333333,
              "#9c179e"
             ],
             [
              0.4444444444444444,
              "#bd3786"
             ],
             [
              0.5555555555555556,
              "#d8576b"
             ],
             [
              0.6666666666666666,
              "#ed7953"
             ],
             [
              0.7777777777777778,
              "#fb9f3a"
             ],
             [
              0.8888888888888888,
              "#fdca26"
             ],
             [
              1,
              "#f0f921"
             ]
            ],
            "type": "heatmap"
           }
          ],
          "heatmapgl": [
           {
            "colorbar": {
             "outlinewidth": 0,
             "ticks": ""
            },
            "colorscale": [
             [
              0,
              "#0d0887"
             ],
             [
              0.1111111111111111,
              "#46039f"
             ],
             [
              0.2222222222222222,
              "#7201a8"
             ],
             [
              0.3333333333333333,
              "#9c179e"
             ],
             [
              0.4444444444444444,
              "#bd3786"
             ],
             [
              0.5555555555555556,
              "#d8576b"
             ],
             [
              0.6666666666666666,
              "#ed7953"
             ],
             [
              0.7777777777777778,
              "#fb9f3a"
             ],
             [
              0.8888888888888888,
              "#fdca26"
             ],
             [
              1,
              "#f0f921"
             ]
            ],
            "type": "heatmapgl"
           }
          ],
          "histogram": [
           {
            "marker": {
             "pattern": {
              "fillmode": "overlay",
              "size": 10,
              "solidity": 0.2
             }
            },
            "type": "histogram"
           }
          ],
          "histogram2d": [
           {
            "colorbar": {
             "outlinewidth": 0,
             "ticks": ""
            },
            "colorscale": [
             [
              0,
              "#0d0887"
             ],
             [
              0.1111111111111111,
              "#46039f"
             ],
             [
              0.2222222222222222,
              "#7201a8"
             ],
             [
              0.3333333333333333,
              "#9c179e"
             ],
             [
              0.4444444444444444,
              "#bd3786"
             ],
             [
              0.5555555555555556,
              "#d8576b"
             ],
             [
              0.6666666666666666,
              "#ed7953"
             ],
             [
              0.7777777777777778,
              "#fb9f3a"
             ],
             [
              0.8888888888888888,
              "#fdca26"
             ],
             [
              1,
              "#f0f921"
             ]
            ],
            "type": "histogram2d"
           }
          ],
          "histogram2dcontour": [
           {
            "colorbar": {
             "outlinewidth": 0,
             "ticks": ""
            },
            "colorscale": [
             [
              0,
              "#0d0887"
             ],
             [
              0.1111111111111111,
              "#46039f"
             ],
             [
              0.2222222222222222,
              "#7201a8"
             ],
             [
              0.3333333333333333,
              "#9c179e"
             ],
             [
              0.4444444444444444,
              "#bd3786"
             ],
             [
              0.5555555555555556,
              "#d8576b"
             ],
             [
              0.6666666666666666,
              "#ed7953"
             ],
             [
              0.7777777777777778,
              "#fb9f3a"
             ],
             [
              0.8888888888888888,
              "#fdca26"
             ],
             [
              1,
              "#f0f921"
             ]
            ],
            "type": "histogram2dcontour"
           }
          ],
          "mesh3d": [
           {
            "colorbar": {
             "outlinewidth": 0,
             "ticks": ""
            },
            "type": "mesh3d"
           }
          ],
          "parcoords": [
           {
            "line": {
             "colorbar": {
              "outlinewidth": 0,
              "ticks": ""
             }
            },
            "type": "parcoords"
           }
          ],
          "pie": [
           {
            "automargin": true,
            "type": "pie"
           }
          ],
          "scatter": [
           {
            "fillpattern": {
             "fillmode": "overlay",
             "size": 10,
             "solidity": 0.2
            },
            "type": "scatter"
           }
          ],
          "scatter3d": [
           {
            "line": {
             "colorbar": {
              "outlinewidth": 0,
              "ticks": ""
             }
            },
            "marker": {
             "colorbar": {
              "outlinewidth": 0,
              "ticks": ""
             }
            },
            "type": "scatter3d"
           }
          ],
          "scattercarpet": [
           {
            "marker": {
             "colorbar": {
              "outlinewidth": 0,
              "ticks": ""
             }
            },
            "type": "scattercarpet"
           }
          ],
          "scattergeo": [
           {
            "marker": {
             "colorbar": {
              "outlinewidth": 0,
              "ticks": ""
             }
            },
            "type": "scattergeo"
           }
          ],
          "scattergl": [
           {
            "marker": {
             "colorbar": {
              "outlinewidth": 0,
              "ticks": ""
             }
            },
            "type": "scattergl"
           }
          ],
          "scattermapbox": [
           {
            "marker": {
             "colorbar": {
              "outlinewidth": 0,
              "ticks": ""
             }
            },
            "type": "scattermapbox"
           }
          ],
          "scatterpolar": [
           {
            "marker": {
             "colorbar": {
              "outlinewidth": 0,
              "ticks": ""
             }
            },
            "type": "scatterpolar"
           }
          ],
          "scatterpolargl": [
           {
            "marker": {
             "colorbar": {
              "outlinewidth": 0,
              "ticks": ""
             }
            },
            "type": "scatterpolargl"
           }
          ],
          "scatterternary": [
           {
            "marker": {
             "colorbar": {
              "outlinewidth": 0,
              "ticks": ""
             }
            },
            "type": "scatterternary"
           }
          ],
          "surface": [
           {
            "colorbar": {
             "outlinewidth": 0,
             "ticks": ""
            },
            "colorscale": [
             [
              0,
              "#0d0887"
             ],
             [
              0.1111111111111111,
              "#46039f"
             ],
             [
              0.2222222222222222,
              "#7201a8"
             ],
             [
              0.3333333333333333,
              "#9c179e"
             ],
             [
              0.4444444444444444,
              "#bd3786"
             ],
             [
              0.5555555555555556,
              "#d8576b"
             ],
             [
              0.6666666666666666,
              "#ed7953"
             ],
             [
              0.7777777777777778,
              "#fb9f3a"
             ],
             [
              0.8888888888888888,
              "#fdca26"
             ],
             [
              1,
              "#f0f921"
             ]
            ],
            "type": "surface"
           }
          ],
          "table": [
           {
            "cells": {
             "fill": {
              "color": "#EBF0F8"
             },
             "line": {
              "color": "white"
             }
            },
            "header": {
             "fill": {
              "color": "#C8D4E3"
             },
             "line": {
              "color": "white"
             }
            },
            "type": "table"
           }
          ]
         },
         "layout": {
          "annotationdefaults": {
           "arrowcolor": "#2a3f5f",
           "arrowhead": 0,
           "arrowwidth": 1
          },
          "autotypenumbers": "strict",
          "coloraxis": {
           "colorbar": {
            "outlinewidth": 0,
            "ticks": ""
           }
          },
          "colorscale": {
           "diverging": [
            [
             0,
             "#8e0152"
            ],
            [
             0.1,
             "#c51b7d"
            ],
            [
             0.2,
             "#de77ae"
            ],
            [
             0.3,
             "#f1b6da"
            ],
            [
             0.4,
             "#fde0ef"
            ],
            [
             0.5,
             "#f7f7f7"
            ],
            [
             0.6,
             "#e6f5d0"
            ],
            [
             0.7,
             "#b8e186"
            ],
            [
             0.8,
             "#7fbc41"
            ],
            [
             0.9,
             "#4d9221"
            ],
            [
             1,
             "#276419"
            ]
           ],
           "sequential": [
            [
             0,
             "#0d0887"
            ],
            [
             0.1111111111111111,
             "#46039f"
            ],
            [
             0.2222222222222222,
             "#7201a8"
            ],
            [
             0.3333333333333333,
             "#9c179e"
            ],
            [
             0.4444444444444444,
             "#bd3786"
            ],
            [
             0.5555555555555556,
             "#d8576b"
            ],
            [
             0.6666666666666666,
             "#ed7953"
            ],
            [
             0.7777777777777778,
             "#fb9f3a"
            ],
            [
             0.8888888888888888,
             "#fdca26"
            ],
            [
             1,
             "#f0f921"
            ]
           ],
           "sequentialminus": [
            [
             0,
             "#0d0887"
            ],
            [
             0.1111111111111111,
             "#46039f"
            ],
            [
             0.2222222222222222,
             "#7201a8"
            ],
            [
             0.3333333333333333,
             "#9c179e"
            ],
            [
             0.4444444444444444,
             "#bd3786"
            ],
            [
             0.5555555555555556,
             "#d8576b"
            ],
            [
             0.6666666666666666,
             "#ed7953"
            ],
            [
             0.7777777777777778,
             "#fb9f3a"
            ],
            [
             0.8888888888888888,
             "#fdca26"
            ],
            [
             1,
             "#f0f921"
            ]
           ]
          },
          "colorway": [
           "#636efa",
           "#EF553B",
           "#00cc96",
           "#ab63fa",
           "#FFA15A",
           "#19d3f3",
           "#FF6692",
           "#B6E880",
           "#FF97FF",
           "#FECB52"
          ],
          "font": {
           "color": "#2a3f5f"
          },
          "geo": {
           "bgcolor": "white",
           "lakecolor": "white",
           "landcolor": "#E5ECF6",
           "showlakes": true,
           "showland": true,
           "subunitcolor": "white"
          },
          "hoverlabel": {
           "align": "left"
          },
          "hovermode": "closest",
          "mapbox": {
           "style": "light"
          },
          "paper_bgcolor": "white",
          "plot_bgcolor": "#E5ECF6",
          "polar": {
           "angularaxis": {
            "gridcolor": "white",
            "linecolor": "white",
            "ticks": ""
           },
           "bgcolor": "#E5ECF6",
           "radialaxis": {
            "gridcolor": "white",
            "linecolor": "white",
            "ticks": ""
           }
          },
          "scene": {
           "xaxis": {
            "backgroundcolor": "#E5ECF6",
            "gridcolor": "white",
            "gridwidth": 2,
            "linecolor": "white",
            "showbackground": true,
            "ticks": "",
            "zerolinecolor": "white"
           },
           "yaxis": {
            "backgroundcolor": "#E5ECF6",
            "gridcolor": "white",
            "gridwidth": 2,
            "linecolor": "white",
            "showbackground": true,
            "ticks": "",
            "zerolinecolor": "white"
           },
           "zaxis": {
            "backgroundcolor": "#E5ECF6",
            "gridcolor": "white",
            "gridwidth": 2,
            "linecolor": "white",
            "showbackground": true,
            "ticks": "",
            "zerolinecolor": "white"
           }
          },
          "shapedefaults": {
           "line": {
            "color": "#2a3f5f"
           }
          },
          "ternary": {
           "aaxis": {
            "gridcolor": "white",
            "linecolor": "white",
            "ticks": ""
           },
           "baxis": {
            "gridcolor": "white",
            "linecolor": "white",
            "ticks": ""
           },
           "bgcolor": "#E5ECF6",
           "caxis": {
            "gridcolor": "white",
            "linecolor": "white",
            "ticks": ""
           }
          },
          "title": {
           "x": 0.05
          },
          "xaxis": {
           "automargin": true,
           "gridcolor": "white",
           "linecolor": "white",
           "ticks": "",
           "title": {
            "standoff": 15
           },
           "zerolinecolor": "white",
           "zerolinewidth": 2
          },
          "yaxis": {
           "automargin": true,
           "gridcolor": "white",
           "linecolor": "white",
           "ticks": "",
           "title": {
            "standoff": 15
           },
           "zerolinecolor": "white",
           "zerolinewidth": 2
          }
         }
        },
        "xaxis": {
         "title": {
          "text": "Number of Neurons in each layer"
         }
        },
        "yaxis": {
         "title": {
          "text": "Variation to relu (%)"
         }
        }
       }
      }
     },
     "metadata": {},
     "output_type": "display_data"
    }
   ],
   "source": [
    "color_map = {6: 'rgb(255,0,0)', 5: 'rgb(0,255,0)', 4: 'rgb(0,0,255)', 3: 'rgb(255,255,0)'}\n",
    "fig = go.Figure()\n",
    "fig.add_trace(go.Scatter(x=num_neurons,y=mean_tanh_add[0,:],name='4',marker={'color': color_map[6]}))\n",
    "fig.add_trace(go.Scatter(x=num_neurons,y=mean_tanh_add[1,:],name='3',marker={'color': color_map[5]}))\n",
    "fig.add_trace(go.Scatter(x=num_neurons,y=mean_tanh_add[2,:],name='2',marker={'color': color_map[4]}))\n",
    "fig.add_trace(go.Scatter(x=num_neurons,y=mean_tanh_add[3,:],name='1',marker={'color': color_map[3]}))\n",
    "\n",
    "fig.add_trace(go.Scatter(x=num_neurons,y=mean_sigmoid_add[0,:],marker={'color': color_map[6]},line={'dash':'dash'},showlegend=False))\n",
    "fig.add_trace(go.Scatter(x=num_neurons,y=mean_sigmoid_add[1,:],marker={'color': color_map[5]},line={'dash':'dash'},showlegend=False))\n",
    "fig.add_trace(go.Scatter(x=num_neurons,y=mean_sigmoid_add[2,:],marker={'color': color_map[4]},line={'dash':'dash'},showlegend=False))\n",
    "fig.add_trace(go.Scatter(x=num_neurons,y=mean_sigmoid_add[3,:],marker={'color': color_map[3]},line={'dash':'dash'},showlegend=False))\n",
    "\n",
    "fig.update_layout(xaxis_title=\"Number of Neurons in each layer\", yaxis_title=\"Variation to relu (%)\")\n",
    "fig.show()"
   ]
  }
 ],
 "metadata": {
  "kernelspec": {
   "display_name": "Python 3",
   "language": "python",
   "name": "python3"
  },
  "language_info": {
   "codemirror_mode": {
    "name": "ipython",
    "version": 3
   },
   "file_extension": ".py",
   "mimetype": "text/x-python",
   "name": "python",
   "nbconvert_exporter": "python",
   "pygments_lexer": "ipython3",
   "version": "3.12.1"
  }
 },
 "nbformat": 4,
 "nbformat_minor": 2
}
