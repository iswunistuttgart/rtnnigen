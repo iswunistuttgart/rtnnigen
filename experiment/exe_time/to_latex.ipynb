{
 "cells": [
  {
   "cell_type": "code",
   "execution_count": 9,
   "metadata": {},
   "outputs": [],
   "source": [
    "import pandas as pd\n",
    "import os\n",
    "\n",
    "# num_layers = [6, 5, 4, 3]\n",
    "num_layers = [6]\n",
    "num_neurons = [500, 400, 300, 200, 100, 10]"
   ]
  },
  {
   "cell_type": "code",
   "execution_count": 10,
   "metadata": {},
   "outputs": [],
   "source": [
    "folder = 'orig_measurement_df'\n",
    "filepath = os.path.join(folder, 'exe_time_measurement_tanh_arch.pkl')\n",
    "df = pd.read_pickle(filepath)"
   ]
  },
  {
   "cell_type": "code",
   "execution_count": 11,
   "metadata": {},
   "outputs": [],
   "source": [
    "# to calculate the mean,min, max of different number of neurons and different number of layers\n",
    "# then save the result into a .dat file, number of neurons as x, number of layers as y, mean, max - mean, mean - min as value\n",
    "\n",
    "# create folder \n",
    "import os\n",
    "folder = 'latex'\n",
    "if not os.path.exists(folder):\n",
    "    os.makedirs(folder)\n",
    "\n",
    "for i in num_layers:\n",
    "    mean = []\n",
    "    max = []\n",
    "    min = []\n",
    "\n",
    "    mean.append([])\n",
    "    max.append([])\n",
    "    min.append([])\n",
    "    for j in num_neurons:\n",
    "        mean[-1].append(df.loc[(df['num_layers'] == i) & (df['num_neurons'] == j)]['measurement'].mean())\n",
    "        max[-1].append(df.loc[(df['num_layers'] == i) & (df['num_neurons'] == j)]['measurement'].max())\n",
    "        min[-1].append(df.loc[(df['num_layers'] == i) & (df['num_neurons'] == j)]['measurement'].min()) \n",
    "    filename = os.path.join(folder, f\"num_layers_{i}.dat\")\n",
    "    with open(filename, 'w') as f:\n",
    "        f.write('x y ey+ ey-\\n')\n",
    "        for j in range(len(num_neurons)):\n",
    "            f.write(f'{num_neurons[j]} {mean[0][j]} {max[0][j]-mean[0][j]} {mean[0][j]-min[0][j]}\\n')"
   ]
  }
 ],
 "metadata": {
  "kernelspec": {
   "display_name": "Python 3",
   "language": "python",
   "name": "python3"
  },
  "language_info": {
   "codemirror_mode": {
    "name": "ipython",
    "version": 3
   },
   "file_extension": ".py",
   "mimetype": "text/x-python",
   "name": "python",
   "nbconvert_exporter": "python",
   "pygments_lexer": "ipython3",
   "version": "3.12.1"
  }
 },
 "nbformat": 4,
 "nbformat_minor": 2
}
