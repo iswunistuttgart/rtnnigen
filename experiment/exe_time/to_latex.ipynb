{
 "cells": [
  {
   "cell_type": "code",
   "execution_count": null,
   "metadata": {},
   "outputs": [],
   "source": [
    "import pandas as pd\n",
    "\n",
    "num_layers = [6, 5, 4, 3]\n",
    "num_neurons = [500, 400, 300, 200, 100, 10]"
   ]
  },
  {
   "cell_type": "code",
   "execution_count": null,
   "metadata": {},
   "outputs": [],
   "source": [
    "df = pd.read_pickle('exe_time_measurement.pkl')"
   ]
  },
  {
   "cell_type": "code",
   "execution_count": null,
   "metadata": {},
   "outputs": [],
   "source": [
    "# to calculate the mean,min, max of different number of neurons and different number of layers\n",
    "# then save the result into a .dat file, number of neurons as x, number of layers as y, mean, max - mean, mean - min as value\n",
    "\n",
    "# create folder \n",
    "import os\n",
    "folder = 'exe_time_measurement'\n",
    "if not os.path.exists(folder):\n",
    "    os.makedirs(folder)\n",
    "\n",
    "for i in num_layers:\n",
    "    mean = []\n",
    "    max = []\n",
    "    min = []\n",
    "\n",
    "    mean.append([])\n",
    "    max.append([])\n",
    "    min.append([])\n",
    "    for j in num_neurons:\n",
    "        mean[-1].append(df.loc[(df['num_layers'] == i) & (df['num_neurons'] == j)]['measurement'].mean())\n",
    "        max[-1].append(df.loc[(df['num_layers'] == i) & (df['num_neurons'] == j)]['measurement'].max())\n",
    "        min[-1].append(df.loc[(df['num_layers'] == i) & (df['num_neurons'] == j)]['measurement'].min()) \n",
    "    filename = os.path.join(folder, f\"num_layers_{i}.dat\")\n",
    "    with open(filename, 'w') as f:\n",
    "        f.write('x y ey+ ey-\\n')\n",
    "        for j in range(len(num_neurons)):\n",
    "            f.write(f'{num_neurons[j]} {mean[0][j]} {max[0][j]-mean[0][j]} {mean[0][j]-min[0][j]}\\n')"
   ]
  }
 ],
 "metadata": {
  "language_info": {
   "name": "python"
  }
 },
 "nbformat": 4,
 "nbformat_minor": 2
}
