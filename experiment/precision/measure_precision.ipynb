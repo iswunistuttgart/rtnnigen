{
 "cells": [
  {
   "cell_type": "code",
   "execution_count": 2,
   "metadata": {},
   "outputs": [],
   "source": [
    "import pyads\n",
    "import plotly.express as px\n",
    "import plotly.graph_objects as go\n",
    "import pandas as pd\n",
    "import tensorflow\n",
    "import keras\n",
    "\n",
    "plc_buffer_name = 'Main.profiler_buffer'\n",
    "plc_numlayers_name = 'Main.FB_NN.nn.num_layers'\n",
    "plc_numneurons_name = 'Main.FB_NN.nn.layers[[index]].num_neurons'\n",
    "plc_MeasureFinished_name = 'Main.MeasureFinished'\n",
    "\n",
    "num_layers = [6, 5, 4, 3]\n",
    "num_neurons = [500, 400, 300, 200, 100, 10]"
   ]
  },
  {
   "cell_type": "code",
   "execution_count": null,
   "metadata": {},
   "outputs": [],
   "source": [
    "python_model = keras.saving.load_model('test_model.keras')\n"
   ]
  }
 ],
 "metadata": {
  "kernelspec": {
   "display_name": "Python 3",
   "language": "python",
   "name": "python3"
  },
  "language_info": {
   "codemirror_mode": {
    "name": "ipython",
    "version": 3
   },
   "file_extension": ".py",
   "mimetype": "text/x-python",
   "name": "python",
   "nbconvert_exporter": "python",
   "pygments_lexer": "ipython3",
   "version": "3.12.1"
  }
 },
 "nbformat": 4,
 "nbformat_minor": 2
}
