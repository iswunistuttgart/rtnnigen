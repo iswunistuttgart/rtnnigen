{
 "cells": [
  {
   "cell_type": "code",
   "execution_count": 12,
   "metadata": {},
   "outputs": [],
   "source": [
    "import pyads\n",
    "import plotly.express as px\n",
    "import plotly.graph_objects as go\n",
    "import pandas as pd\n",
    "import tensorflow\n",
    "import keras\n",
    "import numpy as np\n",
    "\n",
    "\n",
    "plc_buffer_name = 'Main.profiler_buffer'\n",
    "plc_numlayers_name = 'Main.FB_NN.nn.num_layers'\n",
    "plc_numneurons_name = 'Main.FB_NN.nn.layers[[index]].num_neurons'\n",
    "plc_MeasureFinished_name = 'Main.MeasureFinished'\n",
    "plc_output_name = 'Main.out'\n",
    "plc_input_name = 'Main.input'\n",
    "\n",
    "num_layers = [6, 5, 4, 3]\n",
    "num_neurons = [500, 400, 300, 200, 100, 10]"
   ]
  },
  {
   "cell_type": "code",
   "execution_count": 37,
   "metadata": {},
   "outputs": [],
   "source": [
    "python_model = keras.saving.load_model('test_model.keras')\n",
    "\n",
    "np.random.seed(2024)\n",
    "measurement = []\n",
    "rand_input = np.random.rand(100,5)*10e5\n",
    "memory = 0\n",
    "for i in range(rand_input.shape[0]):\n",
    "    input = rand_input[i,:]\n",
    "    python_input = input.reshape(1,5)\n",
    "    python_output = python_model.predict(python_input, verbose=0)\n",
    "    with pyads.Connection('127.0.0.1.1.1', pyads.PORT_TC3PLC1) as plc:\n",
    "        plc.write_by_name(plc_input_name, input.tolist() ,pyads.PLCTYPE_LREAL*5)\n",
    "    while(1):\n",
    "        with pyads.Connection('127.0.0.1.1.1', pyads.PORT_TC3PLC1) as plc:\n",
    "            rtnn_output = plc.read_by_name(plc_output_name, pyads.PLCTYPE_LREAL)\n",
    "        if memory!=rtnn_output:\n",
    "            memory = rtnn_output\n",
    "            break\n",
    "    dif = python_output[0,0]-rtnn_output\n",
    "    measurement.append([python_output[0,0],rtnn_output, dif, (dif/python_output[0,0])*100])\n",
    "\n"
   ]
  },
  {
   "cell_type": "code",
   "execution_count": 38,
   "metadata": {},
   "outputs": [
    {
     "name": "stdout",
     "output_type": "stream",
     "text": [
      "max = 5.372926561137872e-05\n",
      "0     2.961196e-06\n",
      "1     2.237100e-05\n",
      "2    -7.971059e-06\n",
      "3    -1.094293e-05\n",
      "4    -9.082191e-06\n",
      "          ...     \n",
      "95    7.745032e-07\n",
      "96    3.638224e-05\n",
      "97    4.842113e-06\n",
      "98   -1.109029e-05\n",
      "99   -1.209942e-05\n",
      "Name: percent %, Length: 100, dtype: float64\n"
     ]
    }
   ],
   "source": [
    "df_abv = pd.DataFrame(measurement, columns=['python_output', 'rtnn_output', 'difference', 'percent %'])\n",
    "print(f'max = {np.abs(df_abv['percent %']).max()}')\n",
    "print(df_abv['percent %'])"
   ]
  }
 ],
 "metadata": {
  "kernelspec": {
   "display_name": "Python 3",
   "language": "python",
   "name": "python3"
  },
  "language_info": {
   "codemirror_mode": {
    "name": "ipython",
    "version": 3
   },
   "file_extension": ".py",
   "mimetype": "text/x-python",
   "name": "python",
   "nbconvert_exporter": "python",
   "pygments_lexer": "ipython3",
   "version": "3.12.1"
  }
 },
 "nbformat": 4,
 "nbformat_minor": 2
}
