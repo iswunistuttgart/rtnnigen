{
 "cells": [
  {
   "cell_type": "code",
   "execution_count": 25,
   "metadata": {},
   "outputs": [],
   "source": [
    "import struct\n",
    "import os\n",
    "import random\n",
    "\n",
    "num_layers = [6, 5, 4, 3]\n",
    "num_neurons = [500, 400, 300, 200, 100, 10]\n",
    "input_dim = 5\n",
    "output_dim = 1\n",
    "\n",
    "folder = 'pseudo_weights_file'\n",
    "if not os.path.exists(folder):\n",
    "    os.makedirs(folder)"
   ]
  },
  {
   "cell_type": "code",
   "execution_count": 28,
   "metadata": {},
   "outputs": [
    {
     "name": "stdout",
     "output_type": "stream",
     "text": [
      "755001\n",
      "484001\n",
      "273001\n",
      "122001\n",
      "31001\n",
      "401\n",
      "504501\n",
      "323601\n",
      "182701\n",
      "81801\n",
      "20901\n",
      "291\n",
      "254001\n",
      "163201\n",
      "92401\n",
      "41601\n",
      "10801\n",
      "181\n",
      "3501\n",
      "2801\n",
      "2101\n",
      "1401\n",
      "701\n",
      "71\n"
     ]
    }
   ],
   "source": [
    "for i in num_layers:\n",
    "    for j in num_neurons:\n",
    "        num_neurons_layers = []\n",
    "        num_neurons_layers.extend((input_dim,*[j for k in range(i-2)],output_dim))\n",
    "\n",
    "        num_lreal = 0\n",
    "        for ind,num in enumerate(num_neurons_layers[:-1]):\n",
    "            num_lreal += (num * num_neurons_layers[ind+1] + num_neurons_layers[ind+1])\n",
    "\n",
    "        data = [random.random() for _ in range(num_lreal)]\n",
    "        file = os.path.join(folder,f'weights_{i}_{j}.dat')\n",
    "        layer_format = 'd'*num_lreal\n",
    "        binary_weights = struct.pack(layer_format,*data)\n",
    "        print(num_lreal)\n",
    "        with open(file, \"wb\") as f:\n",
    "                f.write(binary_weights)\n"
   ]
  }
 ],
 "metadata": {
  "kernelspec": {
   "display_name": "Python 3",
   "language": "python",
   "name": "python3"
  },
  "language_info": {
   "codemirror_mode": {
    "name": "ipython",
    "version": 3
   },
   "file_extension": ".py",
   "mimetype": "text/x-python",
   "name": "python",
   "nbconvert_exporter": "python",
   "pygments_lexer": "ipython3",
   "version": "3.12.1"
  }
 },
 "nbformat": 4,
 "nbformat_minor": 2
}
