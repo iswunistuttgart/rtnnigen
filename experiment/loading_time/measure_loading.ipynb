{
 "cells": [
  {
   "cell_type": "code",
   "execution_count": 22,
   "metadata": {},
   "outputs": [],
   "source": [
    "import pyads\n",
    "import plotly.express as px\n",
    "import plotly.graph_objects as go\n",
    "import pandas as pd\n",
    "import os\n",
    "\n",
    "\n",
    "plc_loadcyc_name = 'Main.load_cycle'\n",
    "plc_loadsucced_name = 'Main.FB_NN.flag_LoadWeights'\n",
    "plc_loadfile_name = 'Main.FB_NN.filePath'\n",
    "\n",
    "filetemplate = r'c:\\Users\\Administrator\\Documents\\git-projekte\\keras2plc\\experiment\\loading_time\\pseudo_weights_file\\weights_[layers]_[neurons].dat'\n",
    "\n",
    "\n",
    "num_layers = [6, 5, 4, 3]\n",
    "num_neurons = [500, 400, 300, 200, 100, 10]"
   ]
  },
  {
   "cell_type": "code",
   "execution_count": 28,
   "metadata": {},
   "outputs": [
    {
     "name": "stdout",
     "output_type": "stream",
     "text": [
      "[[5, 5, 5, 5, 5, 5], [5, 5, 5, 5, 5, 5], [5, 5, 5, 5, 5, 5], [5, 5, 5, 5, 5, 5]]\n"
     ]
    }
   ],
   "source": [
    "load_cyc = []\n",
    "with pyads.Connection('127.0.0.1.1.1', pyads.PORT_TC3PLC1) as plc:\n",
    "    plc.write_by_name(plc_loadcyc_name, 0, pyads.PLCTYPE_UINT)\n",
    "    for i in num_layers:\n",
    "        load_cyc.append([])\n",
    "        for j in num_neurons:\n",
    "            file = filetemplate.replace('[layers]',f'{i}').replace('[neurons]',f'{j}')\n",
    "            plc.write_by_name(plc_loadfile_name, file,pyads.PLCTYPE_STRING)\n",
    "            plc.write_by_name(plc_loadsucced_name, False,pyads.PLCTYPE_BOOL)\n",
    "            while(1):\n",
    "                loadsucced = plc.read_by_name(plc_loadsucced_name, pyads.PLCTYPE_BOOL)\n",
    "                if loadsucced:\n",
    "                    break\n",
    "            times_cyc = plc.read_by_name(plc_loadcyc_name, pyads.PLCTYPE_UINT)\n",
    "            load_cyc[-1].append(times_cyc)\n",
    "            plc.write_by_name(plc_loadcyc_name, 0, pyads.PLCTYPE_UINT)\n",
    "print(load_cyc)"
   ]
  }
 ],
 "metadata": {
  "kernelspec": {
   "display_name": "Python 3",
   "language": "python",
   "name": "python3"
  },
  "language_info": {
   "codemirror_mode": {
    "name": "ipython",
    "version": 3
   },
   "file_extension": ".py",
   "mimetype": "text/x-python",
   "name": "python",
   "nbconvert_exporter": "python",
   "pygments_lexer": "ipython3",
   "version": "3.12.1"
  }
 },
 "nbformat": 4,
 "nbformat_minor": 2
}
