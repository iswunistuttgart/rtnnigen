{
 "cells": [
  {
   "cell_type": "code",
   "execution_count": 1,
   "metadata": {},
   "outputs": [],
   "source": [
    "import pyads\n",
    "import plotly.express as px\n",
    "import plotly.graph_objects as go\n",
    "import pandas as pd\n",
    "import numpy as np\n",
    "import os\n",
    "\n",
    "\n",
    "plc_loadcyc_name = 'Main.load_cycle'\n",
    "plc_loadsucced_name = 'Main.FB_NN.flag_LoadWeights'\n",
    "plc_readlen_name = 'Main.FB_NN.readlen'\n",
    "plc_loadfile_name = 'Main.FB_NN.filePath'\n",
    "plc_MeasureFinished_name = 'Main.MeasureFinished'\n",
    "plc_buffer_name = 'Main.profiler_buffer'\n",
    "\n",
    "filetemplate = r'c:\\Users\\Administrator\\Documents\\git-projekte\\keras2plc\\experiment\\loading_time\\pseudo_weights_file\\weights_[layers]_[neurons].dat'\n",
    "\n",
    "\n",
    "num_layers = [6, 5, 4, 3]\n",
    "num_neurons = [500, 400, 300, 200, 100, 10]\n",
    "input_dim = 5\n",
    "output_dim = 1"
   ]
  },
  {
   "cell_type": "code",
   "execution_count": 7,
   "metadata": {},
   "outputs": [
    {
     "name": "stdout",
     "output_type": "stream",
     "text": [
      "12\n"
     ]
    }
   ],
   "source": [
    "\n",
    "for kk in range(6):\n",
    "    with pyads.Connection('127.0.0.1.1.1', pyads.PORT_TC3PLC1) as plc:\n",
    "        for i in num_layers:\n",
    "            for j in num_neurons:\n",
    "                file = filetemplate.replace('[layers]',f'{i}').replace('[neurons]',f'{j}')\n",
    "                plc.write_by_name(plc_loadfile_name, file,pyads.PLCTYPE_STRING)\n",
    "\n",
    "                num_neurons_layers = []\n",
    "                num_neurons_layers.extend((input_dim,*[j for k in range(i-2)],output_dim))\n",
    "\n",
    "                num_lreal = 0\n",
    "                for ind,num in enumerate(num_neurons_layers[:-1]):\n",
    "                    num_lreal += (num * num_neurons_layers[ind+1] + num_neurons_layers[ind+1])\n",
    "                plc.write_by_name(plc_readlen_name, num_lreal,pyads.PLCTYPE_UINT)\n",
    "                plc.write_by_name(plc_loadsucced_name, False,pyads.PLCTYPE_BOOL)\n",
    "                plc.write_by_name(plc_MeasureFinished_name, False, pyads.PLCTYPE_BOOL)\n",
    "\n",
    "                while(1):\n",
    "                    loadsucced = plc.read_by_name(plc_loadsucced_name, pyads.PLCTYPE_BOOL)\n",
    "                    if loadsucced:\n",
    "                        break\n",
    "        profiler_buffer = plc.read_by_name(plc_buffer_name, pyads.PLCTYPE_DWORD*1000)\n",
    "profiler_buffer = np.array(profiler_buffer)\n",
    "print(profiler_buffer.max())\n",
    "\n"
   ]
  }
 ],
 "metadata": {
  "kernelspec": {
   "display_name": "Python 3",
   "language": "python",
   "name": "python3"
  },
  "language_info": {
   "codemirror_mode": {
    "name": "ipython",
    "version": 3
   },
   "file_extension": ".py",
   "mimetype": "text/x-python",
   "name": "python",
   "nbconvert_exporter": "python",
   "pygments_lexer": "ipython3",
   "version": "3.12.1"
  }
 },
 "nbformat": 4,
 "nbformat_minor": 2
}
